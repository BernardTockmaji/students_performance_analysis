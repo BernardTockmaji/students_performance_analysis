{
 "cells": [
  {
   "cell_type": "code",
   "execution_count": 1,
   "metadata": {},
   "outputs": [],
   "source": [
    "import warnings\n",
    "warnings.filterwarnings('ignore')\n",
    "import pandas as pd\n",
    "import numpy as np\n",
    "import matplotlib.pyplot as plt\n",
    "import seaborn as sns\n",
    "from  sklearn.metrics import accuracy_score,confusion_matrix"
   ]
  },
  {
   "cell_type": "code",
   "execution_count": 2,
   "metadata": {},
   "outputs": [
    {
     "data": {
      "text/html": [
       "<div>\n",
       "<style scoped>\n",
       "    .dataframe tbody tr th:only-of-type {\n",
       "        vertical-align: middle;\n",
       "    }\n",
       "\n",
       "    .dataframe tbody tr th {\n",
       "        vertical-align: top;\n",
       "    }\n",
       "\n",
       "    .dataframe thead th {\n",
       "        text-align: right;\n",
       "    }\n",
       "</style>\n",
       "<table border=\"1\" class=\"dataframe\">\n",
       "  <thead>\n",
       "    <tr style=\"text-align: right;\">\n",
       "      <th></th>\n",
       "      <th>Admission ID</th>\n",
       "      <th>English Name</th>\n",
       "      <th>Student ID</th>\n",
       "      <th>Passport</th>\n",
       "      <th>Nationality</th>\n",
       "      <th>Other Nationality</th>\n",
       "      <th>F</th>\n",
       "      <th>Grade</th>\n",
       "      <th>EST I total</th>\n",
       "      <th>EST I - Literacy</th>\n",
       "      <th>EST I - Mathematics</th>\n",
       "      <th>EST II - Math 1</th>\n",
       "      <th>EST II - Biology</th>\n",
       "      <th>EST II - Math 2</th>\n",
       "      <th>EST I - Essay</th>\n",
       "    </tr>\n",
       "  </thead>\n",
       "  <tbody>\n",
       "    <tr>\n",
       "      <th>0</th>\n",
       "      <td>202208-006617</td>\n",
       "      <td>Donia Mohamed Abdelhamid Harfoush</td>\n",
       "      <td>3.050428e+13</td>\n",
       "      <td>A27523506</td>\n",
       "      <td>Egypt</td>\n",
       "      <td>NaN</td>\n",
       "      <td>F</td>\n",
       "      <td>11.0</td>\n",
       "      <td>1050.0</td>\n",
       "      <td>510.0</td>\n",
       "      <td>540.0</td>\n",
       "      <td>NaN</td>\n",
       "      <td>NaN</td>\n",
       "      <td>NaN</td>\n",
       "      <td>NaN</td>\n",
       "    </tr>\n",
       "    <tr>\n",
       "      <th>1</th>\n",
       "      <td>202208-006615</td>\n",
       "      <td>Rawan Walid Emad Abdelfattah</td>\n",
       "      <td>3.041027e+13</td>\n",
       "      <td>A27027252</td>\n",
       "      <td>Egypt</td>\n",
       "      <td>NaN</td>\n",
       "      <td>F</td>\n",
       "      <td>12.0</td>\n",
       "      <td>1170.0</td>\n",
       "      <td>520.0</td>\n",
       "      <td>650.0</td>\n",
       "      <td>NaN</td>\n",
       "      <td>NaN</td>\n",
       "      <td>NaN</td>\n",
       "      <td>NaN</td>\n",
       "    </tr>\n",
       "    <tr>\n",
       "      <th>2</th>\n",
       "      <td>202208-006614</td>\n",
       "      <td>Mohamed Hossam Mohamed Fathy Abdelmoneim Attia</td>\n",
       "      <td>3.050924e+13</td>\n",
       "      <td>A18687842</td>\n",
       "      <td>Egypt</td>\n",
       "      <td>NaN</td>\n",
       "      <td>M</td>\n",
       "      <td>11.0</td>\n",
       "      <td>1230.0</td>\n",
       "      <td>580.0</td>\n",
       "      <td>650.0</td>\n",
       "      <td>NaN</td>\n",
       "      <td>NaN</td>\n",
       "      <td>NaN</td>\n",
       "      <td>NaN</td>\n",
       "    </tr>\n",
       "    <tr>\n",
       "      <th>3</th>\n",
       "      <td>202208-006613</td>\n",
       "      <td>Salma Aly Mohamed Mohamed Abdo</td>\n",
       "      <td>3.030131e+13</td>\n",
       "      <td>NaN</td>\n",
       "      <td>Egypt</td>\n",
       "      <td>NaN</td>\n",
       "      <td>F</td>\n",
       "      <td>12.0</td>\n",
       "      <td>1320.0</td>\n",
       "      <td>650.0</td>\n",
       "      <td>670.0</td>\n",
       "      <td>NaN</td>\n",
       "      <td>NaN</td>\n",
       "      <td>NaN</td>\n",
       "      <td>NaN</td>\n",
       "    </tr>\n",
       "    <tr>\n",
       "      <th>4</th>\n",
       "      <td>202208-006609</td>\n",
       "      <td>Farah Mohamed Elsayed Elsheribni Elsheribni</td>\n",
       "      <td>3.040925e+13</td>\n",
       "      <td>A23127024</td>\n",
       "      <td>Egypt</td>\n",
       "      <td>NaN</td>\n",
       "      <td>F</td>\n",
       "      <td>11.0</td>\n",
       "      <td>1040.0</td>\n",
       "      <td>540.0</td>\n",
       "      <td>500.0</td>\n",
       "      <td>NaN</td>\n",
       "      <td>NaN</td>\n",
       "      <td>NaN</td>\n",
       "      <td>NaN</td>\n",
       "    </tr>\n",
       "  </tbody>\n",
       "</table>\n",
       "</div>"
      ],
      "text/plain": [
       "    Admission ID                                    English Name  \\\n",
       "0  202208-006617               Donia Mohamed Abdelhamid Harfoush   \n",
       "1  202208-006615                    Rawan Walid Emad Abdelfattah   \n",
       "2  202208-006614  Mohamed Hossam Mohamed Fathy Abdelmoneim Attia   \n",
       "3  202208-006613                  Salma Aly Mohamed Mohamed Abdo   \n",
       "4  202208-006609     Farah Mohamed Elsayed Elsheribni Elsheribni   \n",
       "\n",
       "     Student ID   Passport Nationality Other Nationality  F  Grade  \\\n",
       "0  3.050428e+13  A27523506       Egypt               NaN  F   11.0   \n",
       "1  3.041027e+13  A27027252       Egypt               NaN  F   12.0   \n",
       "2  3.050924e+13  A18687842       Egypt               NaN  M   11.0   \n",
       "3  3.030131e+13        NaN       Egypt               NaN  F   12.0   \n",
       "4  3.040925e+13  A23127024       Egypt               NaN  F   11.0   \n",
       "\n",
       "   EST I total  EST I - Literacy  EST I - Mathematics  EST II - Math 1  \\\n",
       "0       1050.0             510.0                540.0              NaN   \n",
       "1       1170.0             520.0                650.0              NaN   \n",
       "2       1230.0             580.0                650.0              NaN   \n",
       "3       1320.0             650.0                670.0              NaN   \n",
       "4       1040.0             540.0                500.0              NaN   \n",
       "\n",
       "   EST II - Biology  EST II - Math 2  EST I - Essay  \n",
       "0               NaN              NaN            NaN  \n",
       "1               NaN              NaN            NaN  \n",
       "2               NaN              NaN            NaN  \n",
       "3               NaN              NaN            NaN  \n",
       "4               NaN              NaN            NaN  "
      ]
     },
     "execution_count": 2,
     "metadata": {},
     "output_type": "execute_result"
    }
   ],
   "source": [
    "df = pd.read_csv('/home/elearning/Desktop/Artificial_Intelligence_Code/1- DataSets/Students grades/Final_Scores_EST_To_Upload.csv')\n",
    "df.head()"
   ]
  },
  {
   "cell_type": "markdown",
   "metadata": {},
   "source": [
    "## EDA"
   ]
  },
  {
   "cell_type": "markdown",
   "metadata": {},
   "source": [
    "    Deleting Unnecessary Columns"
   ]
  },
  {
   "cell_type": "code",
   "execution_count": 3,
   "metadata": {},
   "outputs": [
    {
     "data": {
      "text/html": [
       "<div>\n",
       "<style scoped>\n",
       "    .dataframe tbody tr th:only-of-type {\n",
       "        vertical-align: middle;\n",
       "    }\n",
       "\n",
       "    .dataframe tbody tr th {\n",
       "        vertical-align: top;\n",
       "    }\n",
       "\n",
       "    .dataframe thead th {\n",
       "        text-align: right;\n",
       "    }\n",
       "</style>\n",
       "<table border=\"1\" class=\"dataframe\">\n",
       "  <thead>\n",
       "    <tr style=\"text-align: right;\">\n",
       "      <th></th>\n",
       "      <th>Admission ID</th>\n",
       "      <th>English Name</th>\n",
       "      <th>F</th>\n",
       "      <th>Grade</th>\n",
       "      <th>EST I total</th>\n",
       "      <th>EST I - Literacy</th>\n",
       "      <th>EST I - Mathematics</th>\n",
       "      <th>EST II - Math 1</th>\n",
       "      <th>EST II - Biology</th>\n",
       "      <th>EST II - Math 2</th>\n",
       "      <th>EST I - Essay</th>\n",
       "    </tr>\n",
       "  </thead>\n",
       "  <tbody>\n",
       "    <tr>\n",
       "      <th>0</th>\n",
       "      <td>202208-006617</td>\n",
       "      <td>Donia Mohamed Abdelhamid Harfoush</td>\n",
       "      <td>F</td>\n",
       "      <td>11.0</td>\n",
       "      <td>1050.0</td>\n",
       "      <td>510.0</td>\n",
       "      <td>540.0</td>\n",
       "      <td>NaN</td>\n",
       "      <td>NaN</td>\n",
       "      <td>NaN</td>\n",
       "      <td>NaN</td>\n",
       "    </tr>\n",
       "    <tr>\n",
       "      <th>1</th>\n",
       "      <td>202208-006615</td>\n",
       "      <td>Rawan Walid Emad Abdelfattah</td>\n",
       "      <td>F</td>\n",
       "      <td>12.0</td>\n",
       "      <td>1170.0</td>\n",
       "      <td>520.0</td>\n",
       "      <td>650.0</td>\n",
       "      <td>NaN</td>\n",
       "      <td>NaN</td>\n",
       "      <td>NaN</td>\n",
       "      <td>NaN</td>\n",
       "    </tr>\n",
       "    <tr>\n",
       "      <th>2</th>\n",
       "      <td>202208-006614</td>\n",
       "      <td>Mohamed Hossam Mohamed Fathy Abdelmoneim Attia</td>\n",
       "      <td>M</td>\n",
       "      <td>11.0</td>\n",
       "      <td>1230.0</td>\n",
       "      <td>580.0</td>\n",
       "      <td>650.0</td>\n",
       "      <td>NaN</td>\n",
       "      <td>NaN</td>\n",
       "      <td>NaN</td>\n",
       "      <td>NaN</td>\n",
       "    </tr>\n",
       "    <tr>\n",
       "      <th>3</th>\n",
       "      <td>202208-006613</td>\n",
       "      <td>Salma Aly Mohamed Mohamed Abdo</td>\n",
       "      <td>F</td>\n",
       "      <td>12.0</td>\n",
       "      <td>1320.0</td>\n",
       "      <td>650.0</td>\n",
       "      <td>670.0</td>\n",
       "      <td>NaN</td>\n",
       "      <td>NaN</td>\n",
       "      <td>NaN</td>\n",
       "      <td>NaN</td>\n",
       "    </tr>\n",
       "    <tr>\n",
       "      <th>4</th>\n",
       "      <td>202208-006609</td>\n",
       "      <td>Farah Mohamed Elsayed Elsheribni Elsheribni</td>\n",
       "      <td>F</td>\n",
       "      <td>11.0</td>\n",
       "      <td>1040.0</td>\n",
       "      <td>540.0</td>\n",
       "      <td>500.0</td>\n",
       "      <td>NaN</td>\n",
       "      <td>NaN</td>\n",
       "      <td>NaN</td>\n",
       "      <td>NaN</td>\n",
       "    </tr>\n",
       "  </tbody>\n",
       "</table>\n",
       "</div>"
      ],
      "text/plain": [
       "    Admission ID                                    English Name  F  Grade  \\\n",
       "0  202208-006617               Donia Mohamed Abdelhamid Harfoush  F   11.0   \n",
       "1  202208-006615                    Rawan Walid Emad Abdelfattah  F   12.0   \n",
       "2  202208-006614  Mohamed Hossam Mohamed Fathy Abdelmoneim Attia  M   11.0   \n",
       "3  202208-006613                  Salma Aly Mohamed Mohamed Abdo  F   12.0   \n",
       "4  202208-006609     Farah Mohamed Elsayed Elsheribni Elsheribni  F   11.0   \n",
       "\n",
       "   EST I total  EST I - Literacy  EST I - Mathematics  EST II - Math 1  \\\n",
       "0       1050.0             510.0                540.0              NaN   \n",
       "1       1170.0             520.0                650.0              NaN   \n",
       "2       1230.0             580.0                650.0              NaN   \n",
       "3       1320.0             650.0                670.0              NaN   \n",
       "4       1040.0             540.0                500.0              NaN   \n",
       "\n",
       "   EST II - Biology  EST II - Math 2  EST I - Essay  \n",
       "0               NaN              NaN            NaN  \n",
       "1               NaN              NaN            NaN  \n",
       "2               NaN              NaN            NaN  \n",
       "3               NaN              NaN            NaN  \n",
       "4               NaN              NaN            NaN  "
      ]
     },
     "execution_count": 3,
     "metadata": {},
     "output_type": "execute_result"
    }
   ],
   "source": [
    "students = df.drop(columns=['Student ID', 'Passport', 'Nationality', 'Other Nationality'])\n",
    "students.head()"
   ]
  },
  {
   "cell_type": "markdown",
   "metadata": {},
   "source": [
    "    Renaming Columns"
   ]
  },
  {
   "cell_type": "code",
   "execution_count": 4,
   "metadata": {},
   "outputs": [],
   "source": [
    "students.columns = ['id', 'name', 'gender', 'grade', 'total_marks', 'literacy', 'mathematics','math1', 'biology', 'math2', 'essay']"
   ]
  },
  {
   "cell_type": "markdown",
   "metadata": {},
   "source": [
    "    Deleting non existant total grades"
   ]
  },
  {
   "cell_type": "code",
   "execution_count": 5,
   "metadata": {},
   "outputs": [],
   "source": [
    "students = students[students['total_marks'].notna()]"
   ]
  },
  {
   "cell_type": "markdown",
   "metadata": {},
   "source": [
    "    Transforming Grades to Percentages"
   ]
  },
  {
   "cell_type": "code",
   "execution_count": 6,
   "metadata": {},
   "outputs": [],
   "source": [
    "def transform_to_percentage():\n",
    "    students['percentage_total_marks'] = students['total_marks'].apply(lambda x: (x*100) / 1580)\n",
    "\n",
    "transform_to_percentage()"
   ]
  },
  {
   "cell_type": "markdown",
   "metadata": {},
   "source": [
    "    Classifying students based on abilities"
   ]
  },
  {
   "cell_type": "code",
   "execution_count": 7,
   "metadata": {},
   "outputs": [],
   "source": [
    "def classify_ability(total_mark):\n",
    "    \n",
    "    if total_mark <= 45:\n",
    "        return str('level 1')\n",
    "\n",
    "    if 45 < total_mark < 60:\n",
    "        return str('level 2')\n",
    "    \n",
    "    if 60<= total_mark < 70:\n",
    "        return str('level 3')\n",
    "\n",
    "    if 70 <= total_mark < 80:\n",
    "        return str('level 4')\n",
    "\n",
    "    if 80 <= total_mark < 85:\n",
    "        return str('level 5')\n",
    "\n",
    "    if 85 <= total_mark < 90:\n",
    "        return str('level 6')\n",
    "\n",
    "    if 90 <= total_mark < 95:\n",
    "        return str('level 7')\n",
    "\n",
    "    if 95 <= total_mark < 100:\n",
    "        return str('level 8')"
   ]
  },
  {
   "cell_type": "markdown",
   "metadata": {},
   "source": [
    "    Initializing new abilities column"
   ]
  },
  {
   "cell_type": "code",
   "execution_count": 8,
   "metadata": {},
   "outputs": [
    {
     "data": {
      "text/html": [
       "<div>\n",
       "<style scoped>\n",
       "    .dataframe tbody tr th:only-of-type {\n",
       "        vertical-align: middle;\n",
       "    }\n",
       "\n",
       "    .dataframe tbody tr th {\n",
       "        vertical-align: top;\n",
       "    }\n",
       "\n",
       "    .dataframe thead th {\n",
       "        text-align: right;\n",
       "    }\n",
       "</style>\n",
       "<table border=\"1\" class=\"dataframe\">\n",
       "  <thead>\n",
       "    <tr style=\"text-align: right;\">\n",
       "      <th></th>\n",
       "      <th>id</th>\n",
       "      <th>name</th>\n",
       "      <th>gender</th>\n",
       "      <th>grade</th>\n",
       "      <th>total_marks</th>\n",
       "      <th>literacy</th>\n",
       "      <th>mathematics</th>\n",
       "      <th>math1</th>\n",
       "      <th>biology</th>\n",
       "      <th>math2</th>\n",
       "      <th>essay</th>\n",
       "      <th>percentage_total_marks</th>\n",
       "      <th>ability</th>\n",
       "    </tr>\n",
       "  </thead>\n",
       "  <tbody>\n",
       "    <tr>\n",
       "      <th>0</th>\n",
       "      <td>202208-006617</td>\n",
       "      <td>Donia Mohamed Abdelhamid Harfoush</td>\n",
       "      <td>F</td>\n",
       "      <td>11.0</td>\n",
       "      <td>1050.0</td>\n",
       "      <td>510.0</td>\n",
       "      <td>540.0</td>\n",
       "      <td>NaN</td>\n",
       "      <td>NaN</td>\n",
       "      <td>NaN</td>\n",
       "      <td>NaN</td>\n",
       "      <td>66.455696</td>\n",
       "      <td>level 3</td>\n",
       "    </tr>\n",
       "    <tr>\n",
       "      <th>1</th>\n",
       "      <td>202208-006615</td>\n",
       "      <td>Rawan Walid Emad Abdelfattah</td>\n",
       "      <td>F</td>\n",
       "      <td>12.0</td>\n",
       "      <td>1170.0</td>\n",
       "      <td>520.0</td>\n",
       "      <td>650.0</td>\n",
       "      <td>NaN</td>\n",
       "      <td>NaN</td>\n",
       "      <td>NaN</td>\n",
       "      <td>NaN</td>\n",
       "      <td>74.050633</td>\n",
       "      <td>level 4</td>\n",
       "    </tr>\n",
       "    <tr>\n",
       "      <th>2</th>\n",
       "      <td>202208-006614</td>\n",
       "      <td>Mohamed Hossam Mohamed Fathy Abdelmoneim Attia</td>\n",
       "      <td>M</td>\n",
       "      <td>11.0</td>\n",
       "      <td>1230.0</td>\n",
       "      <td>580.0</td>\n",
       "      <td>650.0</td>\n",
       "      <td>NaN</td>\n",
       "      <td>NaN</td>\n",
       "      <td>NaN</td>\n",
       "      <td>NaN</td>\n",
       "      <td>77.848101</td>\n",
       "      <td>level 4</td>\n",
       "    </tr>\n",
       "    <tr>\n",
       "      <th>3</th>\n",
       "      <td>202208-006613</td>\n",
       "      <td>Salma Aly Mohamed Mohamed Abdo</td>\n",
       "      <td>F</td>\n",
       "      <td>12.0</td>\n",
       "      <td>1320.0</td>\n",
       "      <td>650.0</td>\n",
       "      <td>670.0</td>\n",
       "      <td>NaN</td>\n",
       "      <td>NaN</td>\n",
       "      <td>NaN</td>\n",
       "      <td>NaN</td>\n",
       "      <td>83.544304</td>\n",
       "      <td>level 5</td>\n",
       "    </tr>\n",
       "    <tr>\n",
       "      <th>4</th>\n",
       "      <td>202208-006609</td>\n",
       "      <td>Farah Mohamed Elsayed Elsheribni Elsheribni</td>\n",
       "      <td>F</td>\n",
       "      <td>11.0</td>\n",
       "      <td>1040.0</td>\n",
       "      <td>540.0</td>\n",
       "      <td>500.0</td>\n",
       "      <td>NaN</td>\n",
       "      <td>NaN</td>\n",
       "      <td>NaN</td>\n",
       "      <td>NaN</td>\n",
       "      <td>65.822785</td>\n",
       "      <td>level 3</td>\n",
       "    </tr>\n",
       "  </tbody>\n",
       "</table>\n",
       "</div>"
      ],
      "text/plain": [
       "              id                                            name gender  \\\n",
       "0  202208-006617               Donia Mohamed Abdelhamid Harfoush      F   \n",
       "1  202208-006615                    Rawan Walid Emad Abdelfattah      F   \n",
       "2  202208-006614  Mohamed Hossam Mohamed Fathy Abdelmoneim Attia      M   \n",
       "3  202208-006613                  Salma Aly Mohamed Mohamed Abdo      F   \n",
       "4  202208-006609     Farah Mohamed Elsayed Elsheribni Elsheribni      F   \n",
       "\n",
       "   grade  total_marks  literacy  mathematics  math1  biology  math2  essay  \\\n",
       "0   11.0       1050.0     510.0        540.0    NaN      NaN    NaN    NaN   \n",
       "1   12.0       1170.0     520.0        650.0    NaN      NaN    NaN    NaN   \n",
       "2   11.0       1230.0     580.0        650.0    NaN      NaN    NaN    NaN   \n",
       "3   12.0       1320.0     650.0        670.0    NaN      NaN    NaN    NaN   \n",
       "4   11.0       1040.0     540.0        500.0    NaN      NaN    NaN    NaN   \n",
       "\n",
       "   percentage_total_marks  ability  \n",
       "0               66.455696  level 3  \n",
       "1               74.050633  level 4  \n",
       "2               77.848101  level 4  \n",
       "3               83.544304  level 5  \n",
       "4               65.822785  level 3  "
      ]
     },
     "execution_count": 8,
     "metadata": {},
     "output_type": "execute_result"
    }
   ],
   "source": [
    "def probability_measurement():\n",
    "   students['ability'] = students['percentage_total_marks'].apply(lambda x: classify_ability(x))\n",
    "\n",
    "probability_measurement()\n",
    "\n",
    "students.head()"
   ]
  },
  {
   "cell_type": "markdown",
   "metadata": {},
   "source": [
    "    Calculacting values count for each ability"
   ]
  },
  {
   "cell_type": "code",
   "execution_count": 9,
   "metadata": {},
   "outputs": [],
   "source": [
    "students_count_per_ability = students['ability'].value_counts()"
   ]
  },
  {
   "cell_type": "code",
   "execution_count": 10,
   "metadata": {},
   "outputs": [
    {
     "data": {
      "text/plain": [
       "level 3    1613\n",
       "level 2    1342\n",
       "level 4     807\n",
       "level 5     210\n",
       "level 6      85\n",
       "level 7      26\n",
       "level 1       3\n",
       "level 8       2\n",
       "Name: ability, dtype: int64"
      ]
     },
     "execution_count": 10,
     "metadata": {},
     "output_type": "execute_result"
    }
   ],
   "source": [
    "students_count_per_ability"
   ]
  },
  {
   "cell_type": "markdown",
   "metadata": {},
   "source": [
    "    Calculating each ability value appearance in percentages"
   ]
  },
  {
   "cell_type": "code",
   "execution_count": 11,
   "metadata": {},
   "outputs": [
    {
     "data": {
      "text/plain": [
       "[0.07338551859099804,\n",
       " 32.827788649706456,\n",
       " 39.456947162426616,\n",
       " 19.740704500978474,\n",
       " 5.136986301369863,\n",
       " 2.079256360078278,\n",
       " 0.6360078277886497,\n",
       " 0.04892367906066536]"
      ]
     },
     "execution_count": 11,
     "metadata": {},
     "output_type": "execute_result"
    }
   ],
   "source": [
    "def ability_percentage(students_count_per_ability):\n",
    "    percentages = []\n",
    "\n",
    "    for index in students_count_per_ability.index.sort_values(ascending=True):\n",
    "        percentages.append(students_count_per_ability[index] * 100 / students_count_per_ability.sum())\n",
    "\n",
    "    return percentages\n",
    "\n",
    "ability_percentage(students_count_per_ability)"
   ]
  },
  {
   "cell_type": "markdown",
   "metadata": {},
   "source": [
    "    Printing students' marks plot to number of students"
   ]
  },
  {
   "cell_type": "code",
   "execution_count": 12,
   "metadata": {},
   "outputs": [
    {
     "data": {
      "text/plain": [
       "<AxesSubplot:xlabel='percentage_total_marks', ylabel='Count'>"
      ]
     },
     "execution_count": 12,
     "metadata": {},
     "output_type": "execute_result"
    },
    {
     "data": {
      "image/png": "[encoded data removed]",
      "text/plain": [
       "<Figure size 1200x800 with 1 Axes>"
      ]
     },
     "metadata": {},
     "output_type": "display_data"
    }
   ],
   "source": [
    "percentage_total_marks = students['percentage_total_marks'].describe()\n",
    "\n",
    "plt.style.use('seaborn-whitegrid')\n",
    "\n",
    "plt.subplots(figsize = (12, 8))\n",
    "\n",
    "plt.axvline(x = percentage_total_marks['mean'], linestyle='--', color='orange',label='Test results mean')\n",
    "\n",
    "sns.histplot(x = students['percentage_total_marks'] ,kde = True)"
   ]
  },
  {
   "cell_type": "markdown",
   "metadata": {},
   "source": [
    "    Abilities distribution percentages to students"
   ]
  },
  {
   "cell_type": "code",
   "execution_count": 13,
   "metadata": {},
   "outputs": [
    {
     "data": {
      "text/plain": [
       "<AxesSubplot:>"
      ]
     },
     "execution_count": 13,
     "metadata": {},
     "output_type": "execute_result"
    },
    {
     "data": {
      "image/png": "[encoded data removed]",
      "text/plain": [
       "<Figure size 640x480 with 1 Axes>"
      ]
     },
     "metadata": {},
     "output_type": "display_data"
    }
   ],
   "source": [
    "sns.lineplot(x=students['ability'].value_counts().index.sort_values(ascending=True), y=ability_percentage(students_count_per_ability))"
   ]
  }
 ],
 "metadata": {
  "kernelspec": {
   "display_name": "Python 3.10.4 64-bit",
   "language": "python",
   "name": "python3"
  },
  "language_info": {
   "codemirror_mode": {
    "name": "ipython",
    "version": 3
   },
   "file_extension": ".py",
   "mimetype": "text/x-python",
   "name": "python",
   "nbconvert_exporter": "python",
   "pygments_lexer": "ipython3",
   "version": "3.10.6"
  },
  "orig_nbformat": 4,
  "vscode": {
   "interpreter": {
    "hash": "916dbcbb3f70747c44a77c7bcd40155683ae19c65e1c03b4aa3499c5328201f1"
   }
  }
 },
 "nbformat": 4,
 "nbformat_minor": 2
}
